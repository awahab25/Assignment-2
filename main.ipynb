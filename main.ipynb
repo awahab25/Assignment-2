{
 "cells": [
  {
   "cell_type": "code",
   "execution_count": 15,
   "metadata": {},
   "outputs": [],
   "source": [
    "# ANS 01\n",
    "\n",
    "shop_list = []\n",
    "user_prompt = input(\"How many items of quantity you want to add\")\n",
    "items_list = int(user_prompt)\n",
    "if items_list>0:\n",
    "    for i in range (0,items_list): \n",
    "        item_name = input(\"Add your items name\")\n",
    "        shop_list.append(item_name)\n",
    "    print (shop_list)\n",
    "    list_del = input(\"Are you want to delete any item?(y/n)\")\n",
    "    list_del = list_del.lower()\n",
    "    if list_del == \"y\":\n",
    "        del_items = input(\"How many items you want to remove?\")\n",
    "        del_items = int(del_items)\n",
    "    for i in range (0,del_items):\n",
    "        remove_item = input(\"Which item do you want to remove?\")\n",
    "        shop_list.remove(remove_item)\n",
    "    print (shop_list, \"Thanks for shopping!\") \n",
    "\n",
    "\n"
   ]
  },
  {
   "cell_type": "code",
   "execution_count": 27,
   "metadata": {},
   "outputs": [
    {
     "name": "stdout",
     "output_type": "stream",
     "text": [
      "5\n",
      "The average grade is: 1208.4\n",
      "{'student1': 23.0, 'student2': 232.0, 'student3': 232.0, 'student4': 3232.0, 'student5': 2323.0}\n"
     ]
    }
   ],
   "source": [
    "# ANS 02\n",
    "student_grades = {}\n",
    "for i in range(1, 6):\n",
    "    students = float(input(f\"Enter Grade for student {i}: \"))\n",
    "    student_grades[f\"student{i}\"] = students\n",
    "total_grades = sum(student_grades.values())\n",
    "number_of_students = len(student_grades)\n",
    "average_grade = total_grades / number_of_students\n",
    "print(f\"The average grade is: {average_grade}\")\n",
    "print(student_grades)\n"
   ]
  },
  {
   "cell_type": "code",
   "execution_count": 2,
   "metadata": {},
   "outputs": [
    {
     "name": "stdout",
     "output_type": "stream",
     "text": [
      "Password must contain minimum 8 charachters!\n"
     ]
    }
   ],
   "source": [
    " \n",
    "        \n",
    "# ANS 3\n",
    "\n",
    "\n",
    "wordlist = [\"apple\", \"banana\", \"apple\", \"orange\", \"banana\", \"grape\", \"apple\"]\n",
    "wordfrequency = {}\n",
    "\n",
    "for word in wordlist:\n",
    "    if word in wordfrequency:\n",
    "        wordfrequency[word] += 1\n",
    "    else:\n",
    "        wordfrequency[word] = 1\n",
    "\n",
    "print(\"Word frequencies:\")\n",
    "for key, value in wordfrequency.items():\n",
    "    print(f\"{key}: {value}\")"
   ]
  },
  {
   "cell_type": "code",
   "execution_count": null,
   "metadata": {},
   "outputs": [],
   "source": [
    "# ANS 4\n",
    "\n",
    "candidate={\"Candidate A\":0,\n",
    "           \"Candidate B\":0,\n",
    "           \"Candidate C\":0}\n",
    "voters_quantity=int(input(\"What is the quantity of voters?\"))\n",
    "for i in range(voters_quantity):\n",
    "    print(f\"Voter {i+1}:\")\n",
    "    print(\"Candidates:\\n\\n1.Canditate A\\n2.Canditate B\\n3.Canditate C\")\n",
    "    vote=int(input(\"Which Number Candidate you want to give vote\"))\n",
    "    if vote==1:\n",
    "        candidate[\"Candidate A\"]+=1\n",
    "        print(\"Your vote for Candidate A is submited sucessfully.\\n\")\n",
    "    elif vote==2:\n",
    "        candidate[\"Candidate B\"]+=1\n",
    "        print(\"Your vote for Candidate B is submited sucessfully.\\n\")\n",
    "    elif vote==3:\n",
    "        candidate[\"Candidate C\"]+=1\n",
    "        print(\"Your vote for Candidate C is submited sucessfully.\\n\")\n",
    "        print(\"\\n\")\n",
    "for key,value in candidate.items():\n",
    "    print(f\"The vote for {key} is {value}\")"
   ]
  },
  {
   "cell_type": "code",
   "execution_count": null,
   "metadata": {},
   "outputs": [],
   "source": [
    "# ANS 5\n",
    "\n",
    "password = input(\"Enter your password: \")\n",
    "\n",
    "if len(password) < 8:\n",
    "    print(\" Password should be at least 8 characters long!\")\n",
    "else:\n",
    "    digit = False\n",
    "    letter = False\n",
    "    for char in password:\n",
    "        if char.isdigit():\n",
    "            digit = True\n",
    "        elif char.isalpha():\n",
    "            letter = True\n",
    "\n",
    "    if not digit:\n",
    "        print(\"Password Should Contain Atleast one digit!\")\n",
    "    if not letter:\n",
    "        print(\"Password should Contain Atleast one letter! \")\n",
    "    else:\n",
    "        print(\"Password is Strong.\")"
   ]
  }
 ],
 "metadata": {
  "kernelspec": {
   "display_name": "Python 3 (ipykernel)",
   "language": "python",
   "name": "python3"
  },
  "language_info": {
   "codemirror_mode": {
    "name": "ipython",
    "version": 3
   },
   "file_extension": ".py",
   "mimetype": "text/x-python",
   "name": "python",
   "nbconvert_exporter": "python",
   "pygments_lexer": "ipython3",
   "version": "3.11.5"
  }
 },
 "nbformat": 4,
 "nbformat_minor": 2
}
